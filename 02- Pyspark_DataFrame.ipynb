{
  "cells": [
    {
      "cell_type": "code",
      "execution_count": 2,
      "metadata": {
        "colab": {
          "base_uri": "https://localhost:8080/"
        },
        "id": "yxx0Lzt8IGX8",
        "outputId": "75d83c48-cc9d-4c7d-a7e7-ff2d13a657c1"
      },
      "outputs": [
        {
          "output_type": "stream",
          "name": "stdout",
          "text": [
            "--2023-09-03 22:01:31--  https://archive.apache.org/dist/spark/spark-3.2.2/spark-3.2.2-bin-hadoop3.2.tgz\n",
            "Resolving archive.apache.org (archive.apache.org)... 65.108.204.189, 2a01:4f9:1a:a084::2\n",
            "Connecting to archive.apache.org (archive.apache.org)|65.108.204.189|:443... connected.\n",
            "HTTP request sent, awaiting response... 200 OK\n",
            "Length: 301112604 (287M) [application/x-gzip]\n",
            "Saving to: ‘spark-3.2.2-bin-hadoop3.2.tgz’\n",
            "\n",
            "spark-3.2.2-bin-had 100%[===================>] 287.16M  23.0MB/s    in 13s     \n",
            "\n",
            "2023-09-03 22:01:44 (21.7 MB/s) - ‘spark-3.2.2-bin-hadoop3.2.tgz’ saved [301112604/301112604]\n",
            "\n"
          ]
        },
        {
          "output_type": "stream",
          "name": "stderr",
          "text": [
            "WARNING:root:'PYARROW_IGNORE_TIMEZONE' environment variable was not set. It is required to set this environment variable to '1' in both driver and executor sides if you use pyarrow>=2.0.0. pandas-on-Spark will set it for you but it does not work if there is a Spark context already launched.\n"
          ]
        }
      ],
      "source": [
        "!apt-get install openjdk-11-jdk-headless -qq > /dev/null\n",
        "!wget https://archive.apache.org/dist/spark/spark-3.2.2/spark-3.2.2-bin-hadoop3.2.tgz\n",
        "!tar xf spark-3.2.2-bin-hadoop3.2.tgz\n",
        "!pip install -q findspark pandas numpy\n",
        "\n",
        "# configurar as variáveis de ambiente\n",
        "import os\n",
        "os.environ[\"JAVA_HOME\"] = \"/usr/lib/jvm/java-11-openjdk-amd64\"\n",
        "os.environ[\"SPARK_HOME\"] = \"/content/spark-3.2.2-bin-hadoop3.2\"\n",
        "\n",
        "# tornar o pyspark \"importável\"\n",
        "import findspark\n",
        "findspark.init('spark-3.2.2-bin-hadoop3.2')\n",
        "\n",
        "\n",
        "from pyspark.sql import functions as func\n",
        "from pyspark.sql.functions import sum\n",
        "from pyspark.sql.types import StructType, StructField, StringType, IntegerType\n",
        "from pyspark.sql.functions import col, concat\n",
        "from pyspark.sql.functions import expr\n",
        "from pyspark.sql.types import *\n",
        "from pyspark.sql import SparkSession\n",
        "from pyspark.sql import types as T\n",
        "from pyspark.sql import functions as F\n",
        "import pyspark.pandas as ps\n",
        "import pandas as pd\n",
        "import numpy as np\n",
        "import warnings, re\n",
        "\n",
        "warnings.filterwarnings('ignore')\n",
        "pd.set_option('display.max_columns', None)\n",
        "\n",
        "\n",
        "# Instanciando Spark\n",
        "spark = SparkSession.builder.master('local[*]').getOrCreate()"
      ]
    },
    {
      "cell_type": "code",
      "execution_count": 3,
      "metadata": {
        "id": "ji-0VrXcJU6c"
      },
      "outputs": [],
      "source": [
        "spark = SparkSession.builder.appName(\"example\").getOrCreate()\n"
      ]
    },
    {
      "cell_type": "code",
      "execution_count": 4,
      "metadata": {
        "colab": {
          "base_uri": "https://localhost:8080/"
        },
        "id": "LLSKrUFlKnwo",
        "outputId": "583c0255-0281-4c54-89c5-463a515811f8"
      },
      "outputs": [
        {
          "output_type": "stream",
          "name": "stdout",
          "text": [
            "+-------+---+\n",
            "|   Name|Age|\n",
            "+-------+---+\n",
            "|  Alice| 28|\n",
            "|    Bob| 22|\n",
            "|Charlie| 35|\n",
            "|Charlie| 35|\n",
            "|Charlie| 35|\n",
            "|Charlie| 35|\n",
            "|Charlie| 35|\n",
            "+-------+---+\n",
            "\n"
          ]
        }
      ],
      "source": [
        "# 01- Como criar um Dataframe\n",
        "columns = \"Name string, Age int\"\n",
        "data = [(\"Alice\", 28), (\"Bob\", 22), (\"Charlie\", 35), (\"Charlie\", 35),(\"Charlie\", 35),(\"Charlie\", 35),(\"Charlie\", 35)]\n",
        "df = spark.createDataFrame(data, columns)\n",
        "df.show()\n"
      ]
    },
    {
      "cell_type": "code",
      "execution_count": 5,
      "metadata": {
        "id": "rlJFCRye2uLl"
      },
      "outputs": [],
      "source": [
        "# 02- Como criar um Dataframe simples, sem um schema\n",
        "from pyspark.sql import SparkSession\n",
        "df1 = spark.createDataFrame([(\"Pedro\",10),(\"Maria\",20),(\"José\",40)])"
      ]
    },
    {
      "cell_type": "code",
      "execution_count": 6,
      "metadata": {
        "colab": {
          "base_uri": "https://localhost:8080/"
        },
        "id": "-5WCgcgy2__c",
        "outputId": "a6ff3357-8fa7-4404-f34d-33bf3ea0287e"
      },
      "outputs": [
        {
          "output_type": "stream",
          "name": "stdout",
          "text": [
            "+-----+---+\n",
            "|   _1| _2|\n",
            "+-----+---+\n",
            "|Pedro| 10|\n",
            "|Maria| 20|\n",
            "| José| 40|\n",
            "+-----+---+\n",
            "\n"
          ]
        }
      ],
      "source": [
        "df1.show()"
      ]
    },
    {
      "cell_type": "code",
      "execution_count": 7,
      "metadata": {
        "colab": {
          "base_uri": "https://localhost:8080/"
        },
        "id": "QPqhtYQuujXe",
        "outputId": "dfbd95ca-286e-46fd-b678-6aba035071af"
      },
      "outputs": [
        {
          "output_type": "stream",
          "name": "stdout",
          "text": [
            "+---+-----+\n",
            "| ID| NOME|\n",
            "+---+-----+\n",
            "|  1|PEDRO|\n",
            "|  2|MARIA|\n",
            "+---+-----+\n",
            "\n"
          ]
        }
      ],
      "source": [
        "schema = \"ID INT, NOME STRING\"\n",
        "dados = [[1,\"PEDRO\"],[2,\"MARIA\"]]\n",
        "df2=spark.createDataFrame(dados,schema)\n",
        "df2.show()"
      ]
    },
    {
      "cell_type": "code",
      "execution_count": 8,
      "metadata": {
        "colab": {
          "base_uri": "https://localhost:8080/"
        },
        "id": "zDwJivUpwyxB",
        "outputId": "609c5983-f095-48eb-db61-57e8b901a904"
      },
      "outputs": [
        {
          "output_type": "stream",
          "name": "stdout",
          "text": [
            "+---+-----+\n",
            "| ID| NOME|\n",
            "+---+-----+\n",
            "|  1|PEDRO|\n",
            "+---+-----+\n",
            "only showing top 1 row\n",
            "\n"
          ]
        }
      ],
      "source": [
        "df2.show(1)"
      ]
    },
    {
      "cell_type": "code",
      "execution_count": null,
      "metadata": {
        "id": "qdvHRB6-w40T"
      },
      "outputs": [],
      "source": []
    },
    {
      "cell_type": "code",
      "execution_count": 9,
      "metadata": {
        "colab": {
          "base_uri": "https://localhost:8080/"
        },
        "id": "6RdWvdrL1A0-",
        "outputId": "0f080aff-527d-421b-d109-097519d7c46a"
      },
      "outputs": [
        {
          "output_type": "stream",
          "name": "stdout",
          "text": [
            "+--------+------+\n",
            "|Produtos|Vendas|\n",
            "+--------+------+\n",
            "|  Caneta|    10|\n",
            "|   Lápis|    20|\n",
            "|  Caneta|    40|\n",
            "+--------+------+\n",
            "\n"
          ]
        }
      ],
      "source": [
        "#03-Criando um Datframe  simples com Schema\n",
        "schema2 = \"Produtos STRING, Vendas INT\"\n",
        "vendas = [[\"Caneta\",10],[\"Lápis\",20],[\"Caneta\",40]]\n",
        "df3 = spark.createDataFrame(vendas , schema2 )\n",
        "df3.show()\n"
      ]
    },
    {
      "cell_type": "code",
      "execution_count": 10,
      "metadata": {
        "colab": {
          "base_uri": "https://localhost:8080/"
        },
        "id": "rExGJFyJ4YL3",
        "outputId": "cc939888-ea13-4f38-cddf-1e06b4c52968"
      },
      "outputs": [
        {
          "output_type": "stream",
          "name": "stdout",
          "text": [
            "+--------+------+\n",
            "|Produtos|Vendas|\n",
            "+--------+------+\n",
            "|  Caneta|    10|\n",
            "|   Lápis|    20|\n",
            "|  Caneta|    40|\n",
            "+--------+------+\n",
            "\n"
          ]
        }
      ],
      "source": [
        "schema2 = \"Produtos STRING, Vendas INT\"\n",
        "vendas = [[\"Caneta\",10],[\"Lápis\",20],[\"Caneta\",40]]\n",
        "df3 = spark.createDataFrame(vendas , schema2 )\n",
        "df3.show()"
      ]
    },
    {
      "cell_type": "code",
      "execution_count": 11,
      "metadata": {
        "colab": {
          "base_uri": "https://localhost:8080/"
        },
        "id": "mSFu2OIS5B7G",
        "outputId": "77f1eaed-c76d-4257-ee1b-1c103535a91c"
      },
      "outputs": [
        {
          "output_type": "stream",
          "name": "stdout",
          "text": [
            "+--------+----------+\n",
            "| Produto|Quantidade|\n",
            "+--------+----------+\n",
            "|   carne|       100|\n",
            "|biscoito|       100|\n",
            "+--------+----------+\n",
            "\n"
          ]
        }
      ],
      "source": [
        "schema = \"Produto string, Quantidade int\"\n",
        "dados = [[\"carne\",100],[\"biscoito\",100]]\n",
        "df5 = spark.createDataFrame(dados, schema)\n",
        "df5.show()"
      ]
    },
    {
      "cell_type": "code",
      "execution_count": 12,
      "metadata": {
        "colab": {
          "base_uri": "https://localhost:8080/"
        },
        "id": "8UDRfl0x-1IR",
        "outputId": "88bf874d-1b3d-470e-92b9-94e5b82debb8"
      },
      "outputs": [
        {
          "output_type": "stream",
          "name": "stdout",
          "text": [
            "+---------+------+---------+-----------+\n",
            "|matricula|  Nome|     área|        tad|\n",
            "+---------+------+---------+-----------+\n",
            "|    40213|marcus|logística|Recebimento|\n",
            "|    40214|  joão| produção|   Produção|\n",
            "|    40215|   ana|   vendas|     Vendas|\n",
            "+---------+------+---------+-----------+\n",
            "\n"
          ]
        }
      ],
      "source": [
        "#04- Criando um Dataframe com uma structype.\n",
        "\n",
        "\n",
        "from pyspark.sql import SparkSession\n",
        "from pyspark.sql.types import StructType, StructField, StringType, IntegerType\n",
        "\n",
        "# Inicialize a sessão Spark\n",
        "spark = SparkSession.builder.appName(\"ExemploSpark\").getOrCreate()\n",
        "\n",
        "schema = StructType([\n",
        "    StructField(\"matricula\", IntegerType(), True),\n",
        "    StructField(\"Nome\", StringType(), True),\n",
        "    StructField(\"área\", StringType(), True),\n",
        "    StructField(\"tad\", StringType(), True)\n",
        "])\n",
        "\n",
        "colunas = \"matricula int, Nome string, área string, tad string\"\n",
        "dados = [\n",
        "    [40213, \"marcus\", \"logística\", \"Recebimento\"],\n",
        "    [40214, \"joão\", \"produção\", \"Produção\"],\n",
        "    [40215, \"ana\", \"vendas\", \"Vendas\"]\n",
        "]\n",
        "\n",
        "df7 = spark.createDataFrame(dados, schema)\n",
        "df7.show()\n"
      ]
    },
    {
      "cell_type": "code",
      "execution_count": 13,
      "metadata": {
        "colab": {
          "base_uri": "https://localhost:8080/"
        },
        "id": "fLGV1m0oDKcN",
        "outputId": "b12342c9-fd45-46d9-91bf-8cfdfbfc0f1b"
      },
      "outputs": [
        {
          "output_type": "stream",
          "name": "stdout",
          "text": [
            "+-------+------+\n",
            "|Produto|Vendas|\n",
            "+-------+------+\n",
            "| Caneta| 10000|\n",
            "| Caneta|  5000|\n",
            "|  Resma| 80000|\n",
            "|  Lápis|  2000|\n",
            "|Caderno| 10000|\n",
            "|Mochila| 10000|\n",
            "+-------+------+\n",
            "\n"
          ]
        }
      ],
      "source": [
        "from pyspark.sql import SparkSession\n",
        "from pyspark.sql.types import StructType, StructField, StringType, IntegerType\n",
        "from pyspark.sql.functions import sum\n",
        "\n",
        "# Inicialize a sessão Spark\n",
        "spark = SparkSession.builder.appName(\"ExemploSpark\").getOrCreate()\n",
        "\n",
        "colunas = StructType([\n",
        "    StructField(\"Produto\", StringType(), True),\n",
        "    StructField(\"Vendas\", IntegerType(), True)])\n",
        "\n",
        "linhas = [\n",
        "[\"Caneta\", 10000],\n",
        "[\"Caneta\", 5000],\n",
        "[\"Resma\", 80000],\n",
        "[\"Lápis\", 2000],\n",
        "[\"Caderno\", 10000],\n",
        "[\"Mochila\", 10000],\n",
        "]\n",
        "dfmarcus = spark.createDataFrame(linhas, colunas)\n",
        "dfmarcus.show()"
      ]
    },
    {
      "cell_type": "code",
      "execution_count": 14,
      "metadata": {
        "colab": {
          "base_uri": "https://localhost:8080/"
        },
        "id": "siQZ1yj2HFbR",
        "outputId": "c06bf43c-b764-4f2f-9d05-174e07fbf38e"
      },
      "outputs": [
        {
          "output_type": "stream",
          "name": "stdout",
          "text": [
            "+-------+------+\n",
            "|Produto|Vendas|\n",
            "+-------+------+\n",
            "| Caneta| 10000|\n",
            "| Caneta|  5000|\n",
            "+-------+------+\n",
            "only showing top 2 rows\n",
            "\n"
          ]
        }
      ],
      "source": [
        "dfmarcus.show(2)"
      ]
    },
    {
      "cell_type": "code",
      "execution_count": 15,
      "metadata": {
        "colab": {
          "base_uri": "https://localhost:8080/"
        },
        "id": "w-54iuP8HH86",
        "outputId": "4c69a852-4e45-4d87-e455-60bff8666b6d"
      },
      "outputs": [
        {
          "output_type": "stream",
          "name": "stdout",
          "text": [
            "+-------+-----------+\n",
            "|Produto|sum(Vendas)|\n",
            "+-------+-----------+\n",
            "| Caneta|      15000|\n",
            "|  Resma|      80000|\n",
            "|Caderno|      10000|\n",
            "|  Lápis|       2000|\n",
            "|Mochila|      10000|\n",
            "+-------+-----------+\n",
            "\n"
          ]
        }
      ],
      "source": [
        "#05 Como usar a função de agregação com groupby\n",
        "# Primeiro nos agrupamos de depois aplicamos a função de agregação\n",
        "\n",
        "dfsoma = dfmarcus.groupBy(\"Produto\").agg(sum(\"Vendas\"))\n",
        "dfsoma.show()"
      ]
    },
    {
      "cell_type": "code",
      "execution_count": 16,
      "metadata": {
        "colab": {
          "base_uri": "https://localhost:8080/"
        },
        "id": "at6KwdSa5gRP",
        "outputId": "7a864928-a100-4b29-b125-5029c1343a4d"
      },
      "outputs": [
        {
          "output_type": "stream",
          "name": "stdout",
          "text": [
            "+--------+-----------+--------+------+---------------+\n",
            "|vendedor|    Produto|  Região|Estado|Valor de Vendas|\n",
            "+--------+-----------+--------+------+---------------+\n",
            "| Ricardo|KiaSportage|Nordeste| Bahia|          10000|\n",
            "|   Paulo|     Vectra|  Parana| Bahia|          10000|\n",
            "|  Carlos|KiaSportage|Nordeste| Bahia|          10000|\n",
            "| Ricardo|KiaSportage|Nordeste| Bahia|          10000|\n",
            "| Ricardo|KiaSportage|Nordeste| Bahia|          10000|\n",
            "+--------+-----------+--------+------+---------------+\n",
            "\n"
          ]
        }
      ],
      "source": [
        "#06- Criando um Datframe\n",
        "\n",
        "from pyspark.sql import SparkSession\n",
        "from pyspark.sql.types import StructType, StructField, StringType, IntegerType\n",
        "from pyspark.sql.functions import sum\n",
        "\n",
        "# Inicialize a sessão Spark\n",
        "spark = SparkSession.builder.appName(\"ExemploSpark\").getOrCreate()\n",
        "\n",
        "colunas = StructType([\n",
        "    StructField(\"vendedor\", StringType(), True),\n",
        "    StructField(\"Produto\", StringType(), True),\n",
        "    StructField(\"Região\", StringType(), True),\n",
        "    StructField(\"Estado\", StringType(), True),\n",
        "    StructField(\"Valor de Vendas\", IntegerType(), True)\n",
        "    ])\n",
        "\n",
        "linhas = [\n",
        "[\"Ricardo\", \"KiaSportage\", \"Nordeste\", \"Bahia\", 10000],\n",
        "[\"Paulo\", \"Vectra\", \"Parana\", \"Bahia\", 10000],\n",
        "[\"Carlos\", \"KiaSportage\", \"Nordeste\", \"Bahia\", 10000],\n",
        "[\"Ricardo\", \"KiaSportage\", \"Nordeste\", \"Bahia\", 10000],\n",
        "[\"Ricardo\", \"KiaSportage\", \"Nordeste\", \"Bahia\", 10000],\n",
        "]\n",
        "dfmarcus = spark.createDataFrame(linhas, colunas)\n",
        "dfmarcus.show()"
      ]
    },
    {
      "cell_type": "code",
      "execution_count": 17,
      "metadata": {
        "colab": {
          "base_uri": "https://localhost:8080/"
        },
        "id": "F8elsFFO731S",
        "outputId": "29e0b699-efe9-490f-981d-ef364f33d2ce"
      },
      "outputs": [
        {
          "output_type": "stream",
          "name": "stdout",
          "text": [
            "+--------+---------------+\n",
            "|vendedor|total de vendas|\n",
            "+--------+---------------+\n",
            "|   Paulo|          10000|\n",
            "| Ricardo|          30000|\n",
            "|  Carlos|          10000|\n",
            "+--------+---------------+\n",
            "\n"
          ]
        }
      ],
      "source": [
        "#07- Como colocar um apelido para uma coluna que sofre ação da função de agrageção\n",
        "dfsoma = dfmarcus.groupBy(\"vendedor\").agg(sum(\"Valor de Vendas\").alias(\"total de vendas\"))\n",
        "dfsoma.show()"
      ]
    },
    {
      "cell_type": "code",
      "execution_count": 18,
      "metadata": {
        "colab": {
          "base_uri": "https://localhost:8080/"
        },
        "id": "t5v2eeNd_K6D",
        "outputId": "2ff6d7aa-1125-4f41-d631-59474cd8f69b"
      },
      "outputs": [
        {
          "output_type": "stream",
          "name": "stdout",
          "text": [
            "+--------+-----------+--------+------+---------------+\n",
            "|vendedor|    Produto|  Região|Estado|Valor de Vendas|\n",
            "+--------+-----------+--------+------+---------------+\n",
            "| Ricardo|KiaSportage|Nordeste| Bahia|          10000|\n",
            "|   Paulo|     Vectra|  Parana| Bahia|          10000|\n",
            "|  Carlos|KiaSportage|Nordeste| Bahia|          10000|\n",
            "| Ricardo|KiaSportage|Nordeste| Bahia|          10000|\n",
            "| Ricardo|KiaSportage|Nordeste| Bahia|          10000|\n",
            "+--------+-----------+--------+------+---------------+\n",
            "\n"
          ]
        }
      ],
      "source": [
        "#08- Como usar o comando select em um dataframe para vermos as colunas que queremos\n",
        "dfmarcus.show()"
      ]
    },
    {
      "cell_type": "code",
      "execution_count": 19,
      "metadata": {
        "colab": {
          "base_uri": "https://localhost:8080/"
        },
        "id": "PNA52cZGN6nY",
        "outputId": "26edcc30-c5af-48d3-e7b5-5978581cb26e"
      },
      "outputs": [
        {
          "output_type": "stream",
          "name": "stdout",
          "text": [
            "+--------+-----------+--------+------+---------------+------------------+\n",
            "|vendedor|    Produto|  Região|Estado|Valor de Vendas|         concateda|\n",
            "+--------+-----------+--------+------+---------------+------------------+\n",
            "| Ricardo|KiaSportage|Nordeste| Bahia|          10000|RicardoKiaSportage|\n",
            "|   Paulo|     Vectra|  Parana| Bahia|          10000|       PauloVectra|\n",
            "|  Carlos|KiaSportage|Nordeste| Bahia|          10000| CarlosKiaSportage|\n",
            "| Ricardo|KiaSportage|Nordeste| Bahia|          10000|RicardoKiaSportage|\n",
            "| Ricardo|KiaSportage|Nordeste| Bahia|          10000|RicardoKiaSportage|\n",
            "+--------+-----------+--------+------+---------------+------------------+\n",
            "\n"
          ]
        }
      ],
      "source": [
        "#09- Como concatenar duas colunas que no nosso caso são, vendedor e produto\n",
        "\n",
        "from pyspark.sql.functions import col, concat\n",
        "dfmarcus2 = dfmarcus.withColumn(\"concateda\", concat(col(\"vendedor\"), col(\"produto\")))\n",
        "dfmarcus2.show()\n",
        "\n"
      ]
    },
    {
      "cell_type": "code",
      "execution_count": 20,
      "metadata": {
        "colab": {
          "base_uri": "https://localhost:8080/"
        },
        "id": "CpuiA0NsRaDs",
        "outputId": "ce95b354-564e-4b8a-bb1d-b1aae4eb4105"
      },
      "outputs": [
        {
          "output_type": "stream",
          "name": "stdout",
          "text": [
            "+--------+-----------+--------+------+---------------+----------------+\n",
            "|vendedor|    Produto|  Região|Estado|Valor de Vendas|Nome_concatenado|\n",
            "+--------+-----------+--------+------+---------------+----------------+\n",
            "| Ricardo|KiaSportage|Nordeste| Bahia|          10000|          Ricage|\n",
            "|   Paulo|     Vectra|  Parana| Bahia|          10000|          Pautra|\n",
            "|  Carlos|KiaSportage|Nordeste| Bahia|          10000|          Carage|\n",
            "| Ricardo|KiaSportage|Nordeste| Bahia|          10000|          Ricage|\n",
            "| Ricardo|KiaSportage|Nordeste| Bahia|          10000|          Ricage|\n",
            "+--------+-----------+--------+------+---------------+----------------+\n",
            "\n"
          ]
        }
      ],
      "source": [
        "\n",
        "#10- Como concatenar letras de nomes em colunas diferentes, no nosso exemplo foi\n",
        "# as tres primeiras letras do nomes da coluna vendedor, com as três ultimas letras\n",
        "# do nome produto\n",
        "\n",
        "from pyspark.sql import SparkSession\n",
        "from pyspark.sql.functions import col, concat, substring\n",
        "\n",
        "dfmarcus3 = dfmarcus.withColumn(\"Nome_concatenado\", concat(substring(col(\"vendedor\"), 1, 3), substring(col(\"produto\"), -3, 3)))\n",
        "dfmarcus3.show()\n"
      ]
    },
    {
      "cell_type": "code",
      "execution_count": 21,
      "metadata": {
        "colab": {
          "base_uri": "https://localhost:8080/"
        },
        "id": "8mf1TSEiSWFu",
        "outputId": "a1ed0fad-c953-4df8-fe86-7ff327709650"
      },
      "outputs": [
        {
          "output_type": "stream",
          "name": "stdout",
          "text": [
            "+--------+-----------+--------+------+---------------+\n",
            "|vendedor|    Produto|  Região|Estado|Valor de Vendas|\n",
            "+--------+-----------+--------+------+---------------+\n",
            "| Ricardo|KiaSportage|Nordeste| Bahia|          10000|\n",
            "|   Paulo|     Vectra|  Parana| Bahia|          10000|\n",
            "|  Carlos|KiaSportage|Nordeste| Bahia|          10000|\n",
            "| Ricardo|KiaSportage|Nordeste| Bahia|          10000|\n",
            "| Ricardo|KiaSportage|Nordeste| Bahia|          10000|\n",
            "+--------+-----------+--------+------+---------------+\n",
            "\n"
          ]
        }
      ],
      "source": [
        "dfmarcus.show()"
      ]
    },
    {
      "cell_type": "code",
      "execution_count": 22,
      "metadata": {
        "colab": {
          "base_uri": "https://localhost:8080/"
        },
        "id": "mMwCfRkKS5ml",
        "outputId": "fa89994a-0a91-4683-9495-be02a7f34d3f"
      },
      "outputs": [
        {
          "output_type": "stream",
          "name": "stdout",
          "text": [
            "+--------+-----------+--------+------+---------------+--------------------+\n",
            "|vendedor|    Produto|  Região|Estado|Valor de Vendas|Quantidade_Duplicada|\n",
            "+--------+-----------+--------+------+---------------+--------------------+\n",
            "| Ricardo|KiaSportage|Nordeste| Bahia|          10000|               50000|\n",
            "|   Paulo|     Vectra|  Parana| Bahia|          10000|               50000|\n",
            "|  Carlos|KiaSportage|Nordeste| Bahia|          10000|               50000|\n",
            "| Ricardo|KiaSportage|Nordeste| Bahia|          10000|               50000|\n",
            "| Ricardo|KiaSportage|Nordeste| Bahia|          10000|               50000|\n",
            "+--------+-----------+--------+------+---------------+--------------------+\n",
            "\n"
          ]
        }
      ],
      "source": [
        "#11- Como multiplicar o valor de uma coluna por detrminado fator ou seja valor.\n",
        "\n",
        "dfmarcus3= dfmarcus.withColumn(\"Quantidade_Duplicada\", col(\"valor de vendas\") * 5)\n",
        "dfmarcus3.show()"
      ]
    },
    {
      "cell_type": "code",
      "execution_count": 23,
      "metadata": {
        "colab": {
          "base_uri": "https://localhost:8080/"
        },
        "id": "vJ1yY2F_TmoT",
        "outputId": "35de3466-061a-4da5-ec9e-723514c86e8a"
      },
      "outputs": [
        {
          "output_type": "stream",
          "name": "stdout",
          "text": [
            "+-----------+---------------+-------------------------+\n",
            "|    Produto|Valor de Vendas|Valor_Vendas_Multiplicado|\n",
            "+-----------+---------------+-------------------------+\n",
            "|KiaSportage|          10000|                    50000|\n",
            "|     Vectra|          10000|                    50000|\n",
            "|KiaSportage|          10000|                    50000|\n",
            "|KiaSportage|          10000|                    50000|\n",
            "|KiaSportage|          10000|                    50000|\n",
            "+-----------+---------------+-------------------------+\n",
            "\n"
          ]
        }
      ],
      "source": [
        "#12- Como usar o expr.\n",
        "\n",
        "from pyspark.sql.functions import expr\n",
        "\n",
        "dfmarcus4 = dfmarcus.select(\"Produto\", \"Valor de Vendas\",\n",
        "expr(\"`Valor de Vendas` * 5\").alias(\"Valor_Vendas_Multiplicado\"))\n",
        "dfmarcus4.show()\n",
        "\n"
      ]
    },
    {
      "cell_type": "code",
      "execution_count": 24,
      "metadata": {
        "colab": {
          "base_uri": "https://localhost:8080/"
        },
        "id": "UhYST6NYMv0A",
        "outputId": "e45d2daf-b96d-4225-f8ed-663a7b55a661"
      },
      "outputs": [
        {
          "output_type": "execute_result",
          "data": {
            "text/plain": [
              "StructType(List(StructField(Produto,StringType,true),StructField(Valor de Vendas,IntegerType,true),StructField(Valor_Vendas_Multiplicado,IntegerType,true)))"
            ]
          },
          "metadata": {},
          "execution_count": 24
        }
      ],
      "source": [
        "#13- Como verificar o schema do Dataframe.\n",
        "dfmarcus4.schema"
      ]
    },
    {
      "cell_type": "code",
      "execution_count": 25,
      "metadata": {
        "colab": {
          "base_uri": "https://localhost:8080/"
        },
        "id": "EvFWuYBBNBp4",
        "outputId": "c854cb9b-6754-4491-d4e8-cd009b7e70ee"
      },
      "outputs": [
        {
          "output_type": "execute_result",
          "data": {
            "text/plain": [
              "['Produto', 'Valor de Vendas', 'Valor_Vendas_Multiplicado']"
            ]
          },
          "metadata": {},
          "execution_count": 25
        }
      ],
      "source": [
        "#14- Verificar as colunas de um dataframe.\n",
        "\n",
        "dfmarcus4.columns"
      ]
    },
    {
      "cell_type": "code",
      "execution_count": 27,
      "metadata": {
        "colab": {
          "base_uri": "https://localhost:8080/"
        },
        "id": "Ppe1r_vGgMqz",
        "outputId": "2db7856e-3601-4c0c-fdab-9b23df3fd4a3"
      },
      "outputs": [
        {
          "output_type": "stream",
          "name": "stdout",
          "text": [
            "+---+-------------------+------+-------------+------+----------+\n",
            "| ID|               NOME|STATUS|       CIDADE|VENDAS|      DATA|\n",
            "+---+-------------------+------+-------------+------+----------+\n",
            "|  1|   Carminda Pestana| Ativo|  Santa Maria|    23|2020-08-11|\n",
            "|  2|    Deolinda Vilela| Ativo|Novo Hamburgo|    34|2020-03-05|\n",
            "|  3|   Emídio Dornelles| Ativo| Porto Alegre|    34|2020-02-05|\n",
            "|  4|Felisbela Dornelles| Ativo| Porto Alegre|    36|2020-02-05|\n",
            "|  5|     Graça Ornellas| Ativo| Porto Alegre|    12|2020-02-05|\n",
            "|  6|   Matilde Rebouças| Ativo| Porto Alegre|    22|2019-01-05|\n",
            "|  7|    Noêmia   Orriça| Ativo|  Santa Maria|    45|2019-10-05|\n",
            "|  8|      Roque Vásquez| Ativo| Porto Alegre|    65|2020-03-05|\n",
            "|  9|      Uriel Queiroz| Ativo| Porto Alegre|    54|2018-05-05|\n",
            "| 10|   Viviana Sequeira| Ativo| Porto Alegre|     0|2020-09-05|\n",
            "+---+-------------------+------+-------------+------+----------+\n",
            "\n"
          ]
        }
      ],
      "source": [
        "#15- Como importamos um arquivo para dentro de um data frame.\n",
        "#Nós determinando os nomes das colunas ou seja o schema.\n",
        "\n",
        "\n",
        "from pyspark.sql import SparkSession\n",
        "from pyspark.sql.types import StructType, StructField, StringType, IntegerType\n",
        "from pyspark.sql.functions import sum\n",
        "\n",
        "# Inicialize a sessão Spark\n",
        "spark = SparkSession.builder.appName(\"ExemploSpark\").getOrCreate()\n",
        "\n",
        "colunas = StructType([\n",
        "    StructField(\"ID\", IntegerType(), True),\n",
        "    StructField(\"NOME\", StringType(), True),\n",
        "    StructField(\"STATUS\", StringType(), True),\n",
        "    StructField(\"CIDADE\", StringType(), True),\n",
        "    StructField(\"VENDAS\", IntegerType(), True),\n",
        "    StructField(\"DATA\", StringType(), True)\n",
        "    ])\n",
        "\n",
        "dfdespachantes = spark.read.csv(\"/home/pyspark/despachantes.csv\",\n",
        "header=False, schema=colunas)\n",
        "\n",
        "dfdespachantes.show()\n",
        "\n",
        "\n"
      ]
    },
    {
      "cell_type": "code",
      "execution_count": 28,
      "metadata": {
        "colab": {
          "base_uri": "https://localhost:8080/"
        },
        "id": "YkoEx5a-syKp",
        "outputId": "fd464130-e95c-43b6-a095-feeeb96a0e3d"
      },
      "outputs": [
        {
          "output_type": "stream",
          "name": "stdout",
          "text": [
            "+---+-------------------+-----+-------------+---+----------+\n",
            "|_c0|                _c1|  _c2|          _c3|_c4|       _c5|\n",
            "+---+-------------------+-----+-------------+---+----------+\n",
            "|  1|   Carminda Pestana|Ativo|  Santa Maria| 23|2020-08-11|\n",
            "|  2|    Deolinda Vilela|Ativo|Novo Hamburgo| 34|2020-03-05|\n",
            "|  3|   Emídio Dornelles|Ativo| Porto Alegre| 34|2020-02-05|\n",
            "|  4|Felisbela Dornelles|Ativo| Porto Alegre| 36|2020-02-05|\n",
            "|  5|     Graça Ornellas|Ativo| Porto Alegre| 12|2020-02-05|\n",
            "|  6|   Matilde Rebouças|Ativo| Porto Alegre| 22|2019-01-05|\n",
            "|  7|    Noêmia   Orriça|Ativo|  Santa Maria| 45|2019-10-05|\n",
            "|  8|      Roque Vásquez|Ativo| Porto Alegre| 65|2020-03-05|\n",
            "|  9|      Uriel Queiroz|Ativo| Porto Alegre| 54|2018-05-05|\n",
            "| 10|   Viviana Sequeira|Ativo| Porto Alegre|  0|2020-09-05|\n",
            "+---+-------------------+-----+-------------+---+----------+\n",
            "\n"
          ]
        }
      ],
      "source": [
        "#16- Como importamos um arquivo para dentro de um data frame.\n",
        "#Pedindo ao spark para ele inferir o schema.\n",
        "\n",
        "dfautoschema = spark.read.csv(\"/home/pyspark/despachantes.csv\",\n",
        "sep=\",\", inferSchema=True, header=False)\n",
        "dfautoschema.show()\n"
      ]
    },
    {
      "cell_type": "code",
      "execution_count": 29,
      "metadata": {
        "colab": {
          "base_uri": "https://localhost:8080/"
        },
        "id": "FMQf8QgpyZ_l",
        "outputId": "e10306d3-113f-4f44-b1dc-23b3a66da4fb"
      },
      "outputs": [
        {
          "output_type": "stream",
          "name": "stdout",
          "text": [
            "+---+-------------------+------+\n",
            "| id|               nome|vendas|\n",
            "+---+-------------------+------+\n",
            "|  1|   Carminda Pestana|    23|\n",
            "|  2|    Deolinda Vilela|    34|\n",
            "|  3|   Emídio Dornelles|    34|\n",
            "|  4|Felisbela Dornelles|    36|\n",
            "|  6|   Matilde Rebouças|    22|\n",
            "|  7|    Noêmia   Orriça|    45|\n",
            "|  8|      Roque Vásquez|    65|\n",
            "|  9|      Uriel Queiroz|    54|\n",
            "+---+-------------------+------+\n",
            "\n"
          ]
        }
      ],
      "source": [
        "#17- Como usar a cláusula Where no Pyspark, Qual a Sintaxe?\n",
        "dfdespachantes .select (\"id\", \"nome\", \"vendas\") \\\n",
        ".where ((dfdespachantes[\"vendas\"] > 20)).show()"
      ]
    },
    {
      "cell_type": "code",
      "execution_count": 30,
      "metadata": {
        "colab": {
          "base_uri": "https://localhost:8080/"
        },
        "id": "2qdGx6pkj3fP",
        "outputId": "69fe54f8-2075-40a0-9dd2-c9684d27193b"
      },
      "outputs": [
        {
          "output_type": "stream",
          "name": "stdout",
          "text": [
            "+---+----------------+------+\n",
            "| id|            nome|vendas|\n",
            "+---+----------------+------+\n",
            "|  1|Carminda Pestana|    23|\n",
            "|  6|Matilde Rebouças|    22|\n",
            "+---+----------------+------+\n",
            "\n"
          ]
        }
      ],
      "source": [
        "#18- Usando o operador Logico & (AND)\n",
        "\n",
        "dfdespachantes .select (\"id\", \"nome\", \"vendas\") \\\n",
        ".where((col(\"vendas\") > 20)\\\n",
        "& (col(\"vendas\") < 30)).show()\n",
        "\n"
      ]
    },
    {
      "cell_type": "code",
      "execution_count": 31,
      "metadata": {
        "colab": {
          "base_uri": "https://localhost:8080/"
        },
        "id": "g3xTzxe_wvVZ",
        "outputId": "87229218-c01d-4b5c-99cb-8822053c8bb1"
      },
      "outputs": [
        {
          "output_type": "stream",
          "name": "stdout",
          "text": [
            "+---+----------------+------+\n",
            "| id|            nome|vendas|\n",
            "+---+----------------+------+\n",
            "|  1|Carminda Pestana|    23|\n",
            "|  6|Matilde Rebouças|    22|\n",
            "+---+----------------+------+\n",
            "\n"
          ]
        }
      ],
      "source": [
        "#19- Usando o operador Logico | (OR)\n",
        "\n",
        "df_filtered = dfdespachantes.select(\"id\", \"nome\", \"vendas\") \\\n",
        "    .where((col(\"vendas\") > 20) & (col(\"vendas\") < 30)) \\\n",
        "    .show()"
      ]
    },
    {
      "cell_type": "code",
      "execution_count": 32,
      "metadata": {
        "colab": {
          "base_uri": "https://localhost:8080/"
        },
        "id": "vJdiyxMQwx4w",
        "outputId": "08477696-cd61-4fd7-b886-f42f0d22e28a"
      },
      "outputs": [
        {
          "output_type": "stream",
          "name": "stdout",
          "text": [
            "+---+-------------------+------+\n",
            "| id|               nome|vendas|\n",
            "+---+-------------------+------+\n",
            "|  1|   Carminda Pestana|    23|\n",
            "|  2|    Deolinda Vilela|    34|\n",
            "|  3|   Emídio Dornelles|    34|\n",
            "|  4|Felisbela Dornelles|    36|\n",
            "|  5|     Graça Ornellas|    12|\n",
            "|  6|   Matilde Rebouças|    22|\n",
            "|  7|    Noêmia   Orriça|    45|\n",
            "|  8|      Roque Vásquez|    65|\n",
            "|  9|      Uriel Queiroz|    54|\n",
            "| 10|   Viviana Sequeira|     0|\n",
            "+---+-------------------+------+\n",
            "\n"
          ]
        }
      ],
      "source": [
        "#20- Usando o operador Logico != (Diferente)\n",
        "\n",
        "dfdespachantes.select(\"id\", \"nome\", \"vendas\") \\\n",
        "    .where((col(\"vendas\") != 1)) \\\n",
        "    .show()"
      ]
    },
    {
      "cell_type": "code",
      "execution_count": 33,
      "metadata": {
        "colab": {
          "base_uri": "https://localhost:8080/"
        },
        "id": "qlXOl2Y2zblZ",
        "outputId": "1e7be831-8208-492a-b861-24dd82c0d095"
      },
      "outputs": [
        {
          "output_type": "stream",
          "name": "stdout",
          "text": [
            "+---+-------------------+------+\n",
            "| id|               nome|vendas|\n",
            "+---+-------------------+------+\n",
            "|  1|   Carminda Pestana|    23|\n",
            "|  2|    Deolinda Vilela|    34|\n",
            "|  3|   Emídio Dornelles|    34|\n",
            "|  4|Felisbela Dornelles|    36|\n",
            "|  5|     Graça Ornellas|    12|\n",
            "|  6|   Matilde Rebouças|    22|\n",
            "|  7|    Noêmia   Orriça|    45|\n",
            "|  8|      Roque Vásquez|    65|\n",
            "|  9|      Uriel Queiroz|    54|\n",
            "| 10|   Viviana Sequeira|     0|\n",
            "+---+-------------------+------+\n",
            "\n"
          ]
        }
      ],
      "source": [
        "#21- Usando o operador Logico - (nega a afirmação)\n",
        "dfdespachantes.select(\"id\", \"nome\", \"vendas\") \\\n",
        "    .where(~ (col(\"vendas\") == 1)) \\\n",
        "    .show()\n"
      ]
    },
    {
      "cell_type": "code",
      "execution_count": 34,
      "metadata": {
        "colab": {
          "base_uri": "https://localhost:8080/"
        },
        "id": "JRxgKRGf2Y65",
        "outputId": "560c8438-311a-4f9b-8f7f-58a935089012"
      },
      "outputs": [
        {
          "output_type": "stream",
          "name": "stdout",
          "text": [
            "+---+----------------+------+\n",
            "| id|            nome|vendas|\n",
            "+---+----------------+------+\n",
            "|  1|Carminda Pestana|    23|\n",
            "+---+----------------+------+\n",
            "\n"
          ]
        }
      ],
      "source": [
        "#22- Usando o operador Logico == (Igual)\n",
        "dfdespachantes.select(\"id\", \"nome\", \"vendas\")\\\n",
        ".where((col(\"vendas\") == 23)).show()"
      ]
    },
    {
      "cell_type": "code",
      "execution_count": 35,
      "metadata": {
        "colab": {
          "base_uri": "https://localhost:8080/"
        },
        "id": "97prYk4FBqrh",
        "outputId": "0bfd6dde-aa87-4908-8b2e-cef6c38c52e1"
      },
      "outputs": [
        {
          "output_type": "stream",
          "name": "stdout",
          "text": [
            "+-------------+-------------------+------+-------------+------+----------+\n",
            "|IDENTIFICAÇÃO|               NOME|STATUS|       CIDADE|VENDAS|      DATA|\n",
            "+-------------+-------------------+------+-------------+------+----------+\n",
            "|            1|   Carminda Pestana| Ativo|  Santa Maria|    23|2020-08-11|\n",
            "|            2|    Deolinda Vilela| Ativo|Novo Hamburgo|    34|2020-03-05|\n",
            "|            3|   Emídio Dornelles| Ativo| Porto Alegre|    34|2020-02-05|\n",
            "|            4|Felisbela Dornelles| Ativo| Porto Alegre|    36|2020-02-05|\n",
            "|            5|     Graça Ornellas| Ativo| Porto Alegre|    12|2020-02-05|\n",
            "|            6|   Matilde Rebouças| Ativo| Porto Alegre|    22|2019-01-05|\n",
            "|            7|    Noêmia   Orriça| Ativo|  Santa Maria|    45|2019-10-05|\n",
            "|            8|      Roque Vásquez| Ativo| Porto Alegre|    65|2020-03-05|\n",
            "|            9|      Uriel Queiroz| Ativo| Porto Alegre|    54|2018-05-05|\n",
            "|           10|   Viviana Sequeira| Ativo| Porto Alegre|     0|2020-09-05|\n",
            "+-------------+-------------------+------+-------------+------+----------+\n",
            "\n"
          ]
        }
      ],
      "source": [
        "#23- Como renomear uma coluna.\n",
        "dfnovo=dfdespachantes.withColumnRenamed(\"ID\", \"IDENTIFICAÇÃO\")\n",
        "dfnovo.show()"
      ]
    },
    {
      "cell_type": "code",
      "execution_count": 36,
      "metadata": {
        "colab": {
          "base_uri": "https://localhost:8080/"
        },
        "id": "SaxdX4-I8aZH",
        "outputId": "78fff857-1b6f-4739-c41b-c860fd208ca1"
      },
      "outputs": [
        {
          "output_type": "stream",
          "name": "stdout",
          "text": [
            "+-------------+-------------------+------+-------------+---------------+----------+\n",
            "|IDENTIFICAÇÃO|            PESSOAS|STATUS|       CIDADE|TOTAL DE VENDAS|      DATA|\n",
            "+-------------+-------------------+------+-------------+---------------+----------+\n",
            "|            1|   Carminda Pestana| Ativo|  Santa Maria|             23|2020-08-11|\n",
            "|            2|    Deolinda Vilela| Ativo|Novo Hamburgo|             34|2020-03-05|\n",
            "|            3|   Emídio Dornelles| Ativo| Porto Alegre|             34|2020-02-05|\n",
            "|            4|Felisbela Dornelles| Ativo| Porto Alegre|             36|2020-02-05|\n",
            "|            5|     Graça Ornellas| Ativo| Porto Alegre|             12|2020-02-05|\n",
            "|            6|   Matilde Rebouças| Ativo| Porto Alegre|             22|2019-01-05|\n",
            "|            7|    Noêmia   Orriça| Ativo|  Santa Maria|             45|2019-10-05|\n",
            "|            8|      Roque Vásquez| Ativo| Porto Alegre|             65|2020-03-05|\n",
            "|            9|      Uriel Queiroz| Ativo| Porto Alegre|             54|2018-05-05|\n",
            "|           10|   Viviana Sequeira| Ativo| Porto Alegre|              0|2020-09-05|\n",
            "+-------------+-------------------+------+-------------+---------------+----------+\n",
            "\n"
          ]
        }
      ],
      "source": [
        "#24- Como renomear várias colunas ao mesmo tempo.\n",
        "dfnovo=dfdespachantes.withColumnRenamed(\"ID\", \"IDENTIFICAÇÃO\")\\\n",
        ".withColumnRenamed(\"NOME\", \"PESSOAS\")\\\n",
        ".withColumnRenamed(\"VENDAS\", \"TOTAL DE VENDAS\")\n",
        "dfnovo.show()"
      ]
    },
    {
      "cell_type": "code",
      "execution_count": 37,
      "metadata": {
        "colab": {
          "base_uri": "https://localhost:8080/"
        },
        "id": "86Q2hkuHDIn0",
        "outputId": "da960365-88c6-44f1-d2bb-87ee509b76c9"
      },
      "outputs": [
        {
          "output_type": "stream",
          "name": "stdout",
          "text": [
            "+-------------+-------------------+------+-------------+------+----------+\n",
            "|IDENTIFICAÇÃO|            PESSOAS|STATUS|       CIDADE|VENDAS|      DATA|\n",
            "+-------------+-------------------+------+-------------+------+----------+\n",
            "|            1|   Carminda Pestana| Ativo|  Santa Maria|    23|2020-08-11|\n",
            "|            2|    Deolinda Vilela| Ativo|Novo Hamburgo|    34|2020-03-05|\n",
            "|            3|   Emídio Dornelles| Ativo| Porto Alegre|    34|2020-02-05|\n",
            "|            4|Felisbela Dornelles| Ativo| Porto Alegre|    36|2020-02-05|\n",
            "|            5|     Graça Ornellas| Ativo| Porto Alegre|    12|2020-02-05|\n",
            "|            6|   Matilde Rebouças| Ativo| Porto Alegre|    22|2019-01-05|\n",
            "|            7|    Noêmia   Orriça| Ativo|  Santa Maria|    45|2019-10-05|\n",
            "|            8|      Roque Vásquez| Ativo| Porto Alegre|    65|2020-03-05|\n",
            "|            9|      Uriel Queiroz| Ativo| Porto Alegre|    54|2018-05-05|\n",
            "|           10|   Viviana Sequeira| Ativo| Porto Alegre|     0|2020-09-05|\n",
            "+-------------+-------------------+------+-------------+------+----------+\n",
            "\n"
          ]
        }
      ],
      "source": [
        "#25- Como renomear colunas e criar um novo dataframe.\n",
        "dfnovo1=dfnovo.withColumnRenamed(\"TOTAL DE VENDAS\", \"VENDAS\")\n",
        "dfnovo1.show()\n"
      ]
    },
    {
      "cell_type": "code",
      "execution_count": 38,
      "metadata": {
        "colab": {
          "base_uri": "https://localhost:8080/"
        },
        "id": "q3fbRD9gEoHP",
        "outputId": "8e345f70-2d54-4698-bf22-0a3a6e74ae93"
      },
      "outputs": [
        {
          "output_type": "stream",
          "name": "stdout",
          "text": [
            "+-------------------+-----------------------+\n",
            "|            PESSOAS|count(VENDAS AS VENDAS)|\n",
            "+-------------------+-----------------------+\n",
            "|   Viviana Sequeira|                      1|\n",
            "|      Uriel Queiroz|                      1|\n",
            "|      Roque Vásquez|                      1|\n",
            "|    Noêmia   Orriça|                      1|\n",
            "|   Matilde Rebouças|                      1|\n",
            "|     Graça Ornellas|                      1|\n",
            "|Felisbela Dornelles|                      1|\n",
            "|   Emídio Dornelles|                      1|\n",
            "|    Deolinda Vilela|                      1|\n",
            "|   Carminda Pestana|                      1|\n",
            "+-------------------+-----------------------+\n",
            "\n"
          ]
        }
      ],
      "source": [
        "#26- Como usar a função de agregação SUM em uma coluna.\n",
        "from pyspark.sql.functions import count, desc\n",
        "\n",
        "dfnovo1.groupBy(\"PESSOAS\").agg(count(col(\"VENDAS\").alias('VENDAS')))\\\n",
        ".orderBy(desc(col(\"PESSOAS\"))).show()\n",
        "\n",
        "\n"
      ]
    },
    {
      "cell_type": "code",
      "execution_count": 39,
      "metadata": {
        "colab": {
          "base_uri": "https://localhost:8080/"
        },
        "id": "1cxM1sMHGoDK",
        "outputId": "ae74d7e8-3fd6-483a-e858-983b8a165bf8"
      },
      "outputs": [
        {
          "output_type": "stream",
          "name": "stdout",
          "text": [
            "+-------------+-------------------+------+-------------+------+----------+\n",
            "|IDENTIFICAÇÃO|            PESSOAS|STATUS|       CIDADE|VENDAS|      DATA|\n",
            "+-------------+-------------------+------+-------------+------+----------+\n",
            "|            1|   Carminda Pestana| Ativo|  Santa Maria|    23|2020-08-11|\n",
            "|            2|    Deolinda Vilela| Ativo|Novo Hamburgo|    34|2020-03-05|\n",
            "|            3|   Emídio Dornelles| Ativo| Porto Alegre|    34|2020-02-05|\n",
            "|            4|Felisbela Dornelles| Ativo| Porto Alegre|    36|2020-02-05|\n",
            "|            5|     Graça Ornellas| Ativo| Porto Alegre|    12|2020-02-05|\n",
            "|            6|   Matilde Rebouças| Ativo| Porto Alegre|    22|2019-01-05|\n",
            "|            7|    Noêmia   Orriça| Ativo|  Santa Maria|    45|2019-10-05|\n",
            "|            8|      Roque Vásquez| Ativo| Porto Alegre|    65|2020-03-05|\n",
            "|            9|      Uriel Queiroz| Ativo| Porto Alegre|    54|2018-05-05|\n",
            "|           10|   Viviana Sequeira| Ativo| Porto Alegre|     0|2020-09-05|\n",
            "+-------------+-------------------+------+-------------+------+----------+\n",
            "\n"
          ]
        }
      ],
      "source": [
        "#27- Como selecionar todas as colunas do DataFrame dfnovo1.\n",
        "# Aplicar a operação distinct.\n",
        "# Remover as linhas duplicadas.\n",
        "# O método show() é usado para exibir o resultado na saída.\n",
        "\n",
        "dfnovo1.select(\"*\").distinct()\n",
        "dfnovo1.show()\n"
      ]
    },
    {
      "cell_type": "code",
      "execution_count": 40,
      "metadata": {
        "colab": {
          "base_uri": "https://localhost:8080/"
        },
        "id": "HVjUtAoKN9v9",
        "outputId": "912260f5-193b-436d-9716-8c05a1ef1180"
      },
      "outputs": [
        {
          "output_type": "stream",
          "name": "stdout",
          "text": [
            "+-------------+-------------------+------+-------------+------+----------+\n",
            "|IDENTIFICAÇÃO|            PESSOAS|STATUS|       CIDADE|VENDAS|      DATA|\n",
            "+-------------+-------------------+------+-------------+------+----------+\n",
            "|            1|   Carminda Pestana| Ativo|  Santa Maria|    23|2020-08-11|\n",
            "|            2|    Deolinda Vilela| Ativo|Novo Hamburgo|    34|2020-03-05|\n",
            "|            3|   Emídio Dornelles| Ativo| Porto Alegre|    34|2020-02-05|\n",
            "|            4|Felisbela Dornelles| Ativo| Porto Alegre|    36|2020-02-05|\n",
            "|            5|     Graça Ornellas| Ativo| Porto Alegre|    12|2020-02-05|\n",
            "|            6|   Matilde Rebouças| Ativo| Porto Alegre|    22|2019-01-05|\n",
            "|            7|    Noêmia   Orriça| Ativo|  Santa Maria|    45|2019-10-05|\n",
            "|            8|      Roque Vásquez| Ativo| Porto Alegre|    65|2020-03-05|\n",
            "|            9|      Uriel Queiroz| Ativo| Porto Alegre|    54|2018-05-05|\n",
            "|           10|   Viviana Sequeira| Ativo| Porto Alegre|     0|2020-09-05|\n",
            "+-------------+-------------------+------+-------------+------+----------+\n",
            "\n"
          ]
        }
      ],
      "source": [
        "dfnovo1.show()"
      ]
    },
    {
      "cell_type": "code",
      "execution_count": 41,
      "metadata": {
        "colab": {
          "base_uri": "https://localhost:8080/"
        },
        "id": "bDhoO0kM9zNP",
        "outputId": "26591bb0-ea6d-4e17-fc41-b9f9de83311b"
      },
      "outputs": [
        {
          "output_type": "stream",
          "name": "stdout",
          "text": [
            "+------+-----------+\n",
            "|status|sum(vendas)|\n",
            "+------+-----------+\n",
            "| Ativo|        325|\n",
            "+------+-----------+\n",
            "\n"
          ]
        }
      ],
      "source": [
        "#28- Realizando groupBY por uma coluna e criando um data frame novo.\n",
        "# Forma01\n",
        "\n",
        "df03 = dfnovo1.groupBy(\"status\").agg(sum(col(\"vendas\")))\n",
        "df03.show()"
      ]
    },
    {
      "cell_type": "code",
      "execution_count": 42,
      "metadata": {
        "colab": {
          "base_uri": "https://localhost:8080/"
        },
        "id": "8KTaLtxpIwqo",
        "outputId": "a4034fb1-3e20-4f30-9fde-77150a5bbecc"
      },
      "outputs": [
        {
          "output_type": "stream",
          "name": "stdout",
          "text": [
            "+------+-----------+\n",
            "|status|sum(vendas)|\n",
            "+------+-----------+\n",
            "| Ativo|        325|\n",
            "+------+-----------+\n",
            "\n"
          ]
        }
      ],
      "source": [
        "#29- Realizando groupBY por uma coluna e criando um data frame novo.\n",
        "# Forma 02\n",
        "\n",
        "df03 = dfnovo1.groupBy(\"status\").agg(sum(col(\"vendas\"))).show()"
      ]
    },
    {
      "cell_type": "code",
      "execution_count": 43,
      "metadata": {
        "colab": {
          "base_uri": "https://localhost:8080/"
        },
        "id": "gQCLzw3NJxWk",
        "outputId": "0770a6e1-99fe-4072-a1f9-98d303ae624c"
      },
      "outputs": [
        {
          "output_type": "stream",
          "name": "stdout",
          "text": [
            "+------+-------------------+-----------+\n",
            "|status|            pessoas|sum(vendas)|\n",
            "+------+-------------------+-----------+\n",
            "| Ativo|      Uriel Queiroz|         54|\n",
            "| Ativo|      Roque Vásquez|         65|\n",
            "| Ativo|   Emídio Dornelles|         34|\n",
            "| Ativo|    Deolinda Vilela|         34|\n",
            "| Ativo|   Carminda Pestana|         23|\n",
            "| Ativo|    Noêmia   Orriça|         45|\n",
            "| Ativo|     Graça Ornellas|         12|\n",
            "| Ativo|   Matilde Rebouças|         22|\n",
            "| Ativo|Felisbela Dornelles|         36|\n",
            "| Ativo|   Viviana Sequeira|          0|\n",
            "+------+-------------------+-----------+\n",
            "\n"
          ]
        }
      ],
      "source": [
        "#20- Realizando o agrupamento por múltiplas colunas.\n",
        "# Criando um data frame novo.\n",
        "# Forma 01\n",
        "df03 = dfnovo1.groupBy(\"status\",\"pessoas\").agg(sum(col(\"vendas\")))\n",
        "df03.show()"
      ]
    },
    {
      "cell_type": "code",
      "execution_count": 44,
      "metadata": {
        "colab": {
          "base_uri": "https://localhost:8080/"
        },
        "id": "jGxH5gtIKM0X",
        "outputId": "c2bee347-3af8-43b8-f1a4-15c0cb70b55c"
      },
      "outputs": [
        {
          "output_type": "stream",
          "name": "stdout",
          "text": [
            "+------+-------------------+-----------+\n",
            "|status|            pessoas|sum(vendas)|\n",
            "+------+-------------------+-----------+\n",
            "| Ativo|      Uriel Queiroz|         54|\n",
            "| Ativo|      Roque Vásquez|         65|\n",
            "| Ativo|   Emídio Dornelles|         34|\n",
            "| Ativo|    Deolinda Vilela|         34|\n",
            "| Ativo|   Carminda Pestana|         23|\n",
            "| Ativo|    Noêmia   Orriça|         45|\n",
            "| Ativo|     Graça Ornellas|         12|\n",
            "| Ativo|   Matilde Rebouças|         22|\n",
            "| Ativo|Felisbela Dornelles|         36|\n",
            "| Ativo|   Viviana Sequeira|          0|\n",
            "+------+-------------------+-----------+\n",
            "\n"
          ]
        }
      ],
      "source": [
        "#31- Realizando o agrupamento por múltiplas colunas.\n",
        "# Criando um data frame novo.\n",
        "# Forma 02\n",
        "df03 = dfnovo1.groupBy(\"status\",\"pessoas\").agg(sum(col(\"vendas\"))).show()"
      ]
    },
    {
      "cell_type": "code",
      "execution_count": 45,
      "metadata": {
        "colab": {
          "base_uri": "https://localhost:8080/"
        },
        "id": "JUNmif3WI7y3",
        "outputId": "1c16a8f4-d22d-42a6-864c-262596371b95"
      },
      "outputs": [
        {
          "output_type": "stream",
          "name": "stdout",
          "text": [
            "+------+-----------+\n",
            "|status|sum(vendas)|\n",
            "+------+-----------+\n",
            "| Ativo|        325|\n",
            "+------+-----------+\n",
            "\n"
          ]
        }
      ],
      "source": [
        "#32- Realizando groupBY por uma coluna sem criar um data frame novo.\n",
        "# Forma01\n",
        "\n",
        "dfnovo1.groupBy(\"status\").agg(sum(col(\"vendas\"))).show()"
      ]
    },
    {
      "cell_type": "code",
      "execution_count": 46,
      "metadata": {
        "colab": {
          "base_uri": "https://localhost:8080/"
        },
        "id": "JyG6o82ZKfH7",
        "outputId": "8510d1c3-5110-4fc6-8380-e8ee6bab43b2"
      },
      "outputs": [
        {
          "output_type": "stream",
          "name": "stdout",
          "text": [
            "+-------------------+-----------+\n",
            "|            PESSOAS|sum(vendas)|\n",
            "+-------------------+-----------+\n",
            "|   Matilde Rebouças|         22|\n",
            "|      Roque Vásquez|         65|\n",
            "|Felisbela Dornelles|         36|\n",
            "|    Noêmia   Orriça|         45|\n",
            "|   Emídio Dornelles|         34|\n",
            "|    Deolinda Vilela|         34|\n",
            "|   Viviana Sequeira|          0|\n",
            "|      Uriel Queiroz|         54|\n",
            "|   Carminda Pestana|         23|\n",
            "|     Graça Ornellas|         12|\n",
            "+-------------------+-----------+\n",
            "\n"
          ]
        }
      ],
      "source": [
        "#33- Realizando groupBY por uma coluna sem criar um data frame novo.\n",
        "# Forma02\n",
        "\n",
        "dfnovo1.groupBy(col(\"PESSOAS\")).agg(sum(col(\"vendas\"))).show()"
      ]
    },
    {
      "cell_type": "code",
      "execution_count": 47,
      "metadata": {
        "colab": {
          "base_uri": "https://localhost:8080/"
        },
        "id": "H8OEmKlcHn-v",
        "outputId": "f27ff1c3-9dad-4886-c329-e516be97f8ce"
      },
      "outputs": [
        {
          "output_type": "stream",
          "name": "stdout",
          "text": [
            "+-------------------+-----------+\n",
            "|            PESSOAS|sum(VENDAS)|\n",
            "+-------------------+-----------+\n",
            "|   Viviana Sequeira|          0|\n",
            "|      Uriel Queiroz|         54|\n",
            "|      Roque Vásquez|         65|\n",
            "|    Noêmia   Orriça|         45|\n",
            "|   Matilde Rebouças|         22|\n",
            "|     Graça Ornellas|         12|\n",
            "|Felisbela Dornelles|         36|\n",
            "|   Emídio Dornelles|         34|\n",
            "|    Deolinda Vilela|         34|\n",
            "|   Carminda Pestana|         23|\n",
            "+-------------------+-----------+\n",
            "\n"
          ]
        }
      ],
      "source": [
        "#34- Como trabalhamos com groupby e orderBY e desc e Asc.\n",
        "\n",
        "from pyspark.sql import SparkSession\n",
        "from pyspark.sql.functions import sum\n",
        "dfnovo1.groupBy(\"PESSOAS\").agg(sum(col(\"VENDAS\"))).orderBy(desc(col(\"PESSOAS\"))).show()\n"
      ]
    },
    {
      "cell_type": "code",
      "source": [
        "dfnovo1.show()"
      ],
      "metadata": {
        "colab": {
          "base_uri": "https://localhost:8080/"
        },
        "id": "mpJasHsj0Ew-",
        "outputId": "d2440518-9f24-4901-e816-d842ae1aa1d4"
      },
      "execution_count": 48,
      "outputs": [
        {
          "output_type": "stream",
          "name": "stdout",
          "text": [
            "+-------------+-------------------+------+-------------+------+----------+\n",
            "|IDENTIFICAÇÃO|            PESSOAS|STATUS|       CIDADE|VENDAS|      DATA|\n",
            "+-------------+-------------------+------+-------------+------+----------+\n",
            "|            1|   Carminda Pestana| Ativo|  Santa Maria|    23|2020-08-11|\n",
            "|            2|    Deolinda Vilela| Ativo|Novo Hamburgo|    34|2020-03-05|\n",
            "|            3|   Emídio Dornelles| Ativo| Porto Alegre|    34|2020-02-05|\n",
            "|            4|Felisbela Dornelles| Ativo| Porto Alegre|    36|2020-02-05|\n",
            "|            5|     Graça Ornellas| Ativo| Porto Alegre|    12|2020-02-05|\n",
            "|            6|   Matilde Rebouças| Ativo| Porto Alegre|    22|2019-01-05|\n",
            "|            7|    Noêmia   Orriça| Ativo|  Santa Maria|    45|2019-10-05|\n",
            "|            8|      Roque Vásquez| Ativo| Porto Alegre|    65|2020-03-05|\n",
            "|            9|      Uriel Queiroz| Ativo| Porto Alegre|    54|2018-05-05|\n",
            "|           10|   Viviana Sequeira| Ativo| Porto Alegre|     0|2020-09-05|\n",
            "+-------------+-------------------+------+-------------+------+----------+\n",
            "\n"
          ]
        }
      ]
    },
    {
      "cell_type": "code",
      "source": [
        "#35- Como usar o Distinct no pyspark.\n",
        "dfdistinct = dfnovo1.select(\"CIDADE\",\"VENDAS\").distinct()\n",
        "dfdistinct.show()"
      ],
      "metadata": {
        "colab": {
          "base_uri": "https://localhost:8080/"
        },
        "id": "9L0v37TH0McF",
        "outputId": "eb1911d2-4769-4dd3-c625-d8e8af163edc"
      },
      "execution_count": 49,
      "outputs": [
        {
          "output_type": "stream",
          "name": "stdout",
          "text": [
            "+-------------+------+\n",
            "|       CIDADE|VENDAS|\n",
            "+-------------+------+\n",
            "|  Santa Maria|    45|\n",
            "| Porto Alegre|    34|\n",
            "|  Santa Maria|    23|\n",
            "|Novo Hamburgo|    34|\n",
            "| Porto Alegre|    65|\n",
            "| Porto Alegre|    22|\n",
            "| Porto Alegre|    36|\n",
            "| Porto Alegre|    12|\n",
            "| Porto Alegre|    54|\n",
            "| Porto Alegre|     0|\n",
            "+-------------+------+\n",
            "\n"
          ]
        }
      ]
    },
    {
      "cell_type": "code",
      "source": [
        "#36- Como usar o dropDuplicates.\n",
        "\n",
        "dfdistinct2=dfdistinct.select(\"VENDAS\").dropDuplicates()\n",
        "dfdistinct2.show()\n"
      ],
      "metadata": {
        "colab": {
          "base_uri": "https://localhost:8080/"
        },
        "id": "FOpNXPRc7ZHe",
        "outputId": "d3506fac-f490-4a05-aa62-f52b636ee39d"
      },
      "execution_count": 50,
      "outputs": [
        {
          "output_type": "stream",
          "name": "stdout",
          "text": [
            "+------+\n",
            "|VENDAS|\n",
            "+------+\n",
            "|    65|\n",
            "|    34|\n",
            "|    12|\n",
            "|    22|\n",
            "|    54|\n",
            "|    23|\n",
            "|    45|\n",
            "|     0|\n",
            "|    36|\n",
            "+------+\n",
            "\n"
          ]
        }
      ]
    },
    {
      "cell_type": "code",
      "source": [
        "#37- Como usar o comando filter.\n",
        "dfnovo1.show()"
      ],
      "metadata": {
        "colab": {
          "base_uri": "https://localhost:8080/"
        },
        "id": "buSMA3-q-n-W",
        "outputId": "8ec26265-fa7c-4045-c2ca-d507b54bd287"
      },
      "execution_count": 51,
      "outputs": [
        {
          "output_type": "stream",
          "name": "stdout",
          "text": [
            "+-------------+-------------------+------+-------------+------+----------+\n",
            "|IDENTIFICAÇÃO|            PESSOAS|STATUS|       CIDADE|VENDAS|      DATA|\n",
            "+-------------+-------------------+------+-------------+------+----------+\n",
            "|            1|   Carminda Pestana| Ativo|  Santa Maria|    23|2020-08-11|\n",
            "|            2|    Deolinda Vilela| Ativo|Novo Hamburgo|    34|2020-03-05|\n",
            "|            3|   Emídio Dornelles| Ativo| Porto Alegre|    34|2020-02-05|\n",
            "|            4|Felisbela Dornelles| Ativo| Porto Alegre|    36|2020-02-05|\n",
            "|            5|     Graça Ornellas| Ativo| Porto Alegre|    12|2020-02-05|\n",
            "|            6|   Matilde Rebouças| Ativo| Porto Alegre|    22|2019-01-05|\n",
            "|            7|    Noêmia   Orriça| Ativo|  Santa Maria|    45|2019-10-05|\n",
            "|            8|      Roque Vásquez| Ativo| Porto Alegre|    65|2020-03-05|\n",
            "|            9|      Uriel Queiroz| Ativo| Porto Alegre|    54|2018-05-05|\n",
            "|           10|   Viviana Sequeira| Ativo| Porto Alegre|     0|2020-09-05|\n",
            "+-------------+-------------------+------+-------------+------+----------+\n",
            "\n"
          ]
        }
      ]
    },
    {
      "cell_type": "code",
      "source": [
        "#38- Como usar o comando filter\n",
        "from pyspark.sql.functions import col\n",
        "\n",
        "dfnovo1.filter(col(\"PESSOAS\") == \"Uriel Queiroz\").show()"
      ],
      "metadata": {
        "colab": {
          "base_uri": "https://localhost:8080/"
        },
        "id": "5Auu2spe-y9F",
        "outputId": "1f7945f8-54fc-4331-eab6-75c4fa1fa90a"
      },
      "execution_count": 52,
      "outputs": [
        {
          "output_type": "stream",
          "name": "stdout",
          "text": [
            "+-------------+-------------+------+------------+------+----------+\n",
            "|IDENTIFICAÇÃO|      PESSOAS|STATUS|      CIDADE|VENDAS|      DATA|\n",
            "+-------------+-------------+------+------------+------+----------+\n",
            "|            9|Uriel Queiroz| Ativo|Porto Alegre|    54|2018-05-05|\n",
            "+-------------+-------------+------+------------+------+----------+\n",
            "\n"
          ]
        }
      ]
    },
    {
      "cell_type": "code",
      "source": [
        "#39-Como exportar (salvar) dataframes em diversos formatos\n",
        "# formarto parquet\n",
        "\n",
        "dfnovo1.write.format(\"parquet\").save(\"/home/pyspark/Exportando_Dados/dfnovo1aparquet\")"
      ],
      "metadata": {
        "id": "frqW_xx8-tu_"
      },
      "execution_count": 53,
      "outputs": []
    },
    {
      "cell_type": "code",
      "source": [
        "#40- Como exportar (salvar) dataframes em diversos formatos\n",
        "# formarto csv\n",
        "\n",
        "dfnovo1.write.format(\"csv\").save(\"/home/pyspark/Exportando_Dados/dfnovo1csv\")"
      ],
      "metadata": {
        "id": "aQWwHJIDHCp0"
      },
      "execution_count": 54,
      "outputs": []
    },
    {
      "cell_type": "code",
      "source": [
        "#41- Como exportar (salvar) dataframes em diversos formatos\n",
        "# formarto json\n",
        "\n",
        "dfnovo1.write.format(\"json\").save(\"/home/pyspark/Exportando_Dados/dfnovo1json\")"
      ],
      "metadata": {
        "id": "yjNfrRUTHNty"
      },
      "execution_count": 55,
      "outputs": []
    },
    {
      "cell_type": "code",
      "source": [
        "#42- Como exportar (salvar) dataframes em diversos formatos\n",
        "# formarto json\n",
        "\n",
        "dfnovo1.write.format(\"orc\").save(\"/home/pyspark/Exportando_Dados/dfnovo1orc\")"
      ],
      "metadata": {
        "id": "fgMpeK6QHW51"
      },
      "execution_count": 56,
      "outputs": []
    },
    {
      "cell_type": "code",
      "source": [
        "#43- Como ler os dataframes em diversos formatos\n",
        "# formarto parquet\n",
        "\n",
        "dfleitura = spark.read.format(\"parquet\").load(\"/home/pyspark/Exportando_Dados/dfnovo1aparquet/despachantes.parquet\")\n",
        "dfleitura.show()"
      ],
      "metadata": {
        "colab": {
          "base_uri": "https://localhost:8080/"
        },
        "id": "1rSt1ayyI_2n",
        "outputId": "d23a102f-18d6-4e25-d7b9-17a382f800ce"
      },
      "execution_count": 63,
      "outputs": [
        {
          "output_type": "stream",
          "name": "stdout",
          "text": [
            "+-------------+-------------------+------+-------------+------+----------+\n",
            "|IDENTIFICAÇÃO|            PESSOAS|STATUS|       CIDADE|VENDAS|      DATA|\n",
            "+-------------+-------------------+------+-------------+------+----------+\n",
            "|            1|   Carminda Pestana| Ativo|  Santa Maria|    23|2020-08-11|\n",
            "|            2|    Deolinda Vilela| Ativo|Novo Hamburgo|    34|2020-03-05|\n",
            "|            3|   Emídio Dornelles| Ativo| Porto Alegre|    34|2020-02-05|\n",
            "|            4|Felisbela Dornelles| Ativo| Porto Alegre|    36|2020-02-05|\n",
            "|            5|     Graça Ornellas| Ativo| Porto Alegre|    12|2020-02-05|\n",
            "|            6|   Matilde Rebouças| Ativo| Porto Alegre|    22|2019-01-05|\n",
            "|            7|    Noêmia   Orriça| Ativo|  Santa Maria|    45|2019-10-05|\n",
            "|            8|      Roque Vásquez| Ativo| Porto Alegre|    65|2020-03-05|\n",
            "|            9|      Uriel Queiroz| Ativo| Porto Alegre|    54|2018-05-05|\n",
            "|           10|   Viviana Sequeira| Ativo| Porto Alegre|     0|2020-09-05|\n",
            "+-------------+-------------------+------+-------------+------+----------+\n",
            "\n"
          ]
        }
      ]
    },
    {
      "cell_type": "code",
      "source": [
        "#44- Como ler os dataframes em diversos formatos\n",
        "# formarto json\n",
        "\n",
        "dfleitura2 = spark.read.format(\"json\").load(\"/home/pyspark/Exportando_Dados/dfnovo1json/despachantes.json\")\n",
        "dfleitura2.show()"
      ],
      "metadata": {
        "colab": {
          "base_uri": "https://localhost:8080/"
        },
        "id": "C4BW0o1BL_wY",
        "outputId": "b59e832a-e5c4-44ed-fbe1-1ccad1c9ae20"
      },
      "execution_count": 60,
      "outputs": [
        {
          "output_type": "stream",
          "name": "stdout",
          "text": [
            "+-------------+----------+-------------+-------------------+------+------+\n",
            "|       CIDADE|      DATA|IDENTIFICAÇÃO|            PESSOAS|STATUS|VENDAS|\n",
            "+-------------+----------+-------------+-------------------+------+------+\n",
            "|  Santa Maria|2020-08-11|            1|   Carminda Pestana| Ativo|    23|\n",
            "|Novo Hamburgo|2020-03-05|            2|    Deolinda Vilela| Ativo|    34|\n",
            "| Porto Alegre|2020-02-05|            3|   Emídio Dornelles| Ativo|    34|\n",
            "| Porto Alegre|2020-02-05|            4|Felisbela Dornelles| Ativo|    36|\n",
            "| Porto Alegre|2020-02-05|            5|     Graça Ornellas| Ativo|    12|\n",
            "| Porto Alegre|2019-01-05|            6|   Matilde Rebouças| Ativo|    22|\n",
            "|  Santa Maria|2019-10-05|            7|    Noêmia   Orriça| Ativo|    45|\n",
            "| Porto Alegre|2020-03-05|            8|      Roque Vásquez| Ativo|    65|\n",
            "| Porto Alegre|2018-05-05|            9|      Uriel Queiroz| Ativo|    54|\n",
            "| Porto Alegre|2020-09-05|           10|   Viviana Sequeira| Ativo|     0|\n",
            "+-------------+----------+-------------+-------------------+------+------+\n",
            "\n"
          ]
        }
      ]
    },
    {
      "cell_type": "code",
      "source": [
        "#45- Como ler os dataframes em diversos formatos\n",
        "#Formarto json\n",
        "\n",
        "dfleitura3 = spark.read.format(\"orc\").load(\"/home/pyspark/Exportando_Dados/dfnovo1orc/despachantes.orc\")\n",
        "dfleitura3.show()"
      ],
      "metadata": {
        "colab": {
          "base_uri": "https://localhost:8080/"
        },
        "id": "KjtCD3KlMO8o",
        "outputId": "200bb6c2-0e95-4e6a-b0fc-9069b7036d3f"
      },
      "execution_count": 61,
      "outputs": [
        {
          "output_type": "stream",
          "name": "stdout",
          "text": [
            "+-------------+-------------------+------+-------------+------+----------+\n",
            "|IDENTIFICAÇÃO|            PESSOAS|STATUS|       CIDADE|VENDAS|      DATA|\n",
            "+-------------+-------------------+------+-------------+------+----------+\n",
            "|            1|   Carminda Pestana| Ativo|  Santa Maria|    23|2020-08-11|\n",
            "|            2|    Deolinda Vilela| Ativo|Novo Hamburgo|    34|2020-03-05|\n",
            "|            3|   Emídio Dornelles| Ativo| Porto Alegre|    34|2020-02-05|\n",
            "|            4|Felisbela Dornelles| Ativo| Porto Alegre|    36|2020-02-05|\n",
            "|            5|     Graça Ornellas| Ativo| Porto Alegre|    12|2020-02-05|\n",
            "|            6|   Matilde Rebouças| Ativo| Porto Alegre|    22|2019-01-05|\n",
            "|            7|    Noêmia   Orriça| Ativo|  Santa Maria|    45|2019-10-05|\n",
            "|            8|      Roque Vásquez| Ativo| Porto Alegre|    65|2020-03-05|\n",
            "|            9|      Uriel Queiroz| Ativo| Porto Alegre|    54|2018-05-05|\n",
            "|           10|   Viviana Sequeira| Ativo| Porto Alegre|     0|2020-09-05|\n",
            "+-------------+-------------------+------+-------------+------+----------+\n",
            "\n"
          ]
        }
      ]
    },
    {
      "cell_type": "code",
      "source": [
        "#46-como ler os dataframes em diversos formatos\n",
        "#Formarto csv\n",
        "\n",
        "dfleitura1 = spark.read.format(\"csv\").load(\"/home/pyspark/Exportando_Dados/dfnovo1csv/despachantes.csv\")\n",
        "dfleitura1.show()"
      ],
      "metadata": {
        "colab": {
          "base_uri": "https://localhost:8080/"
        },
        "id": "koVZrr_rLnnp",
        "outputId": "ee29064e-7bf7-4a2c-fe23-aca7b3313e1d"
      },
      "execution_count": 62,
      "outputs": [
        {
          "output_type": "stream",
          "name": "stdout",
          "text": [
            "+---+-------------------+-----+-------------+---+----------+\n",
            "|_c0|                _c1|  _c2|          _c3|_c4|       _c5|\n",
            "+---+-------------------+-----+-------------+---+----------+\n",
            "|  1|   Carminda Pestana|Ativo|  Santa Maria| 23|2020-08-11|\n",
            "|  2|    Deolinda Vilela|Ativo|Novo Hamburgo| 34|2020-03-05|\n",
            "|  3|   Emídio Dornelles|Ativo| Porto Alegre| 34|2020-02-05|\n",
            "|  4|Felisbela Dornelles|Ativo| Porto Alegre| 36|2020-02-05|\n",
            "|  5|     Graça Ornellas|Ativo| Porto Alegre| 12|2020-02-05|\n",
            "|  6|   Matilde Rebouças|Ativo| Porto Alegre| 22|2019-01-05|\n",
            "|  7|    Noêmia   Orriça|Ativo|  Santa Maria| 45|2019-10-05|\n",
            "|  8|      Roque Vásquez|Ativo| Porto Alegre| 65|2020-03-05|\n",
            "|  9|      Uriel Queiroz|Ativo| Porto Alegre| 54|2018-05-05|\n",
            "| 10|   Viviana Sequeira|Ativo| Porto Alegre|  0|2020-09-05|\n",
            "+---+-------------------+-----+-------------+---+----------+\n",
            "\n"
          ]
        }
      ]
    },
    {
      "cell_type": "code",
      "source": [
        "#47- Colocando a os nomes da coluna no dfleitura01\n",
        "\n",
        "from pyspark.sql import SparkSession\n",
        "from pyspark.sql.types import StructType, StructField, StringType, IntegerType\n",
        "from pyspark.sql.functions import sum\n",
        "\n",
        "# Inicialize a sessão Spark\n",
        "spark = SparkSession.builder.appName(\"ExemploSpark\").getOrCreate()\n",
        "\n",
        "colunas = StructType([\n",
        "    StructField(\"IDENTIFICAÇÃO\", IntegerType(), True),\n",
        "    StructField(\"PESSOAS\", StringType(), True),\n",
        "    StructField(\"STATUS\", StringType(), True),\n",
        "    StructField(\"CIDADE\", StringType(), True),\n",
        "    StructField(\"VENDAS\", IntegerType(), True),\n",
        "    StructField(\"DATA\", StringType(), True)\n",
        "    ])\n",
        "\n",
        "df_com_schema = spark.read.format(\"csv\")\\\n",
        ".load(\"/home/pyspark/Exportando_Dados/dfnovo1csv/despachantes.csv\",\n",
        "schema=colunas)\n",
        "\n",
        "df_com_schema.show()\n",
        "\n"
      ],
      "metadata": {
        "colab": {
          "base_uri": "https://localhost:8080/"
        },
        "id": "_5b34Gj4UIF_",
        "outputId": "021cc00b-0370-4e0c-f3b6-1b46494ca6f0"
      },
      "execution_count": null,
      "outputs": [
        {
          "output_type": "stream",
          "name": "stdout",
          "text": [
            "+-------------+-------------------+------+-------------+------+----------+\n",
            "|IDENTIFICAÇÃO|            PESSOAS|STATUS|       CIDADE|VENDAS|      DATA|\n",
            "+-------------+-------------------+------+-------------+------+----------+\n",
            "|            1|   Carminda Pestana| Ativo|  Santa Maria|    23|2020-08-11|\n",
            "|            2|    Deolinda Vilela| Ativo|Novo Hamburgo|    34|2020-03-05|\n",
            "|            3|   Emídio Dornelles| Ativo| Porto Alegre|    34|2020-02-05|\n",
            "|            4|Felisbela Dornelles| Ativo| Porto Alegre|    36|2020-02-05|\n",
            "|            5|     Graça Ornellas| Ativo| Porto Alegre|    12|2020-02-05|\n",
            "|            6|   Matilde Rebouças| Ativo| Porto Alegre|    22|2019-01-05|\n",
            "|            7|    Noêmia   Orriça| Ativo|  Santa Maria|    45|2019-10-05|\n",
            "|            8|      Roque Vásquez| Ativo| Porto Alegre|    65|2020-03-05|\n",
            "|            9|      Uriel Queiroz| Ativo| Porto Alegre|    54|2018-05-05|\n",
            "|           10|   Viviana Sequeira| Ativo| Porto Alegre|     0|2020-09-05|\n",
            "+-------------+-------------------+------+-------------+------+----------+\n",
            "\n"
          ]
        }
      ]
    }
  ],
  "metadata": {
    "colab": {
      "provenance": [],
      "authorship_tag": "ABX9TyPVIydd/diUe/YQK4H2QGsl"
    },
    "kernelspec": {
      "display_name": "Python 3",
      "name": "python3"
    },
    "language_info": {
      "name": "python"
    }
  },
  "nbformat": 4,
  "nbformat_minor": 0
}
