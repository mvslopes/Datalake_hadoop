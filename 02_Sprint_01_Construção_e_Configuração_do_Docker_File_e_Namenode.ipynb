{
  "nbformat": 4,
  "nbformat_minor": 0,
  "metadata": {
    "colab": {
      "provenance": [],
      "authorship_tag": "ABX9TyN+mYP5LC1MdPcY4w5MZ1cC",
      "include_colab_link": true
    },
    "kernelspec": {
      "name": "python3",
      "display_name": "Python 3"
    },
    "language_info": {
      "name": "python"
    }
  },
  "cells": [
    {
      "cell_type": "markdown",
      "metadata": {
        "id": "view-in-github",
        "colab_type": "text"
      },
      "source": [
        "<a href=\"https://colab.research.google.com/github/mvslopes/Datalake_hadoop/blob/main/02_Sprint_01_Constru%C3%A7%C3%A3o_e_Configura%C3%A7%C3%A3o_do_Docker_File_e_Namenode.ipynb\" target=\"_parent\"><img src=\"https://colab.research.google.com/assets/colab-badge.svg\" alt=\"Open In Colab\"/></a>"
      ]
    },
    {
      "cell_type": "markdown",
      "source": [],
      "metadata": {
        "id": "gosZUJvXDi3V"
      }
    },
    {
      "cell_type": "markdown",
      "source": [
        "1- Criação e Configuração do Dockerfile\n",
        "\n",
        "1.1- Por que  criarmos o dockerfile?\\\n",
        "Criamos um **Dockerfile** porque ele age como uma receita que instrui o Docker sobre como construir uma imagem Docker personalizada para o nosso serviço. Ele contém um conjunto de instruções que descreveu como configurar o ambiente dentro do contêiner, quais arquivos deveriam ser incluídos e como executar comandos quando o contêiner é iniciado.\\\n",
        "\n",
        "1.1.2 - A estrutura do nosso Dockerfile\n",
        "\n",
        "A estrutura e a sintaxe do nosso Dockerfile seguiram as recomendações da documentação oficial Dockerfile reference | Docker Docs.\n",
        "\n",
        "Observação: Os códigos após os comandos docker não foram incluídos aqui, pois contêm informações de configuração específicas do ambiente, como senhas e caminhos de diretórios, que podem representar riscos de segurança se forem expostas publicamente.\n"
      ],
      "metadata": {
        "id": "m2SoMIXeFLui"
      }
    }
  ]
}