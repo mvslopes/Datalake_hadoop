{
  "nbformat": 4,
  "nbformat_minor": 0,
  "metadata": {
    "colab": {
      "provenance": [],
      "authorship_tag": "ABX9TyMeG0HUvIoaxK3blkluZaNL"
    },
    "kernelspec": {
      "name": "python3",
      "display_name": "Python 3"
    },
    "language_info": {
      "name": "python"
    }
  },
  "cells": [
    {
      "cell_type": "markdown",
      "source": [],
      "metadata": {
        "id": "gosZUJvXDi3V"
      }
    },
    {
      "cell_type": "markdown",
      "source": [
        "SPRINT 01\\\n",
        "Construção do Docker File e Namenode\\\n",
        "\n",
        "**Objetivo da Sprint:**\\\n",
        "Construí o Dockerfile e o Namenode para um cluster Hadoop com o objetivo de isolar o ambiente do Hadoop em contêineres Docker e evitar conflitos com o sistema host, garantindo maior segurança. Além disso, busquei padronizar a configuração do Hadoop, permitindo implantações consistentes em diferentes ambientes.\n",
        "\n",
        "Essa abordagem simplifica a criação rápida de ambientes de cluster Hadoop em qualquer sistema compatível com o Docker, tornando mais fácil o processo de desenvolvimento, teste e escalabilidade. Também possibilita um gerenciamento mais eficiente de recursos, controlando o uso de CPU e memória para otimizar o desempenho do cluster.\n"
      ],
      "metadata": {
        "id": "hn8yqF1lTGaS"
      }
    },
    {
      "cell_type": "markdown",
      "source": [
        "Por que  criarmos o dockerfile?\n",
        "\n",
        "Criamos um Dockerfile porque ele age como uma receita que instrui o Docker sobre como construir uma imagem Docker personalizada para o nosso serviço. Ele contém um conjunto de instruções que descreveu como configurar o ambiente dentro do contêiner, quais arquivos deveriam ser incluídos e como executar comandos quando o contêiner é iniciado.\n",
        "Em resumo, um Dockerfile automatizou o processo de criação de imagens Docker, simplificou a implantação consistente de aplicativos em contêineres.\n"
      ],
      "metadata": {
        "id": "4xv2LTFKVS89"
      }
    }
  ]
}